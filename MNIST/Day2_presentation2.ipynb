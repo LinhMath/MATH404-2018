{
 "cells": [
  {
   "cell_type": "code",
   "execution_count": 1,
   "metadata": {},
   "outputs": [
    {
     "name": "stderr",
     "output_type": "stream",
     "text": [
      "/Users/Linh-Main/anaconda3/lib/python3.6/site-packages/h5py/__init__.py:34: FutureWarning: Conversion of the second argument of issubdtype from `float` to `np.floating` is deprecated. In future, it will be treated as `np.float64 == np.dtype(float).type`.\n",
      "  from ._conv import register_converters as _register_converters\n"
     ]
    }
   ],
   "source": [
    "import tensorflow as tf"
   ]
  },
  {
   "cell_type": "code",
   "execution_count": 2,
   "metadata": {},
   "outputs": [
    {
     "name": "stdout",
     "output_type": "stream",
     "text": [
      "WARNING:tensorflow:From /Users/Linh-Main/anaconda3/lib/python3.6/site-packages/tensorflow/contrib/learn/python/learn/datasets/base.py:198: retry (from tensorflow.contrib.learn.python.learn.datasets.base) is deprecated and will be removed in a future version.\n",
      "Instructions for updating:\n",
      "Use the retry module or similar alternatives.\n",
      "WARNING:tensorflow:From <ipython-input-2-69c65344baec>:2: read_data_sets (from tensorflow.contrib.learn.python.learn.datasets.mnist) is deprecated and will be removed in a future version.\n",
      "Instructions for updating:\n",
      "Please use alternatives such as official/mnist/dataset.py from tensorflow/models.\n",
      "WARNING:tensorflow:From /Users/Linh-Main/anaconda3/lib/python3.6/site-packages/tensorflow/contrib/learn/python/learn/datasets/mnist.py:260: maybe_download (from tensorflow.contrib.learn.python.learn.datasets.base) is deprecated and will be removed in a future version.\n",
      "Instructions for updating:\n",
      "Please write your own downloading logic.\n",
      "WARNING:tensorflow:From /Users/Linh-Main/anaconda3/lib/python3.6/site-packages/tensorflow/contrib/learn/python/learn/datasets/mnist.py:262: extract_images (from tensorflow.contrib.learn.python.learn.datasets.mnist) is deprecated and will be removed in a future version.\n",
      "Instructions for updating:\n",
      "Please use tf.data to implement this functionality.\n",
      "Extracting MNIST_data/train-images-idx3-ubyte.gz\n",
      "WARNING:tensorflow:From /Users/Linh-Main/anaconda3/lib/python3.6/site-packages/tensorflow/contrib/learn/python/learn/datasets/mnist.py:267: extract_labels (from tensorflow.contrib.learn.python.learn.datasets.mnist) is deprecated and will be removed in a future version.\n",
      "Instructions for updating:\n",
      "Please use tf.data to implement this functionality.\n",
      "Extracting MNIST_data/train-labels-idx1-ubyte.gz\n",
      "WARNING:tensorflow:From /Users/Linh-Main/anaconda3/lib/python3.6/site-packages/tensorflow/contrib/learn/python/learn/datasets/mnist.py:110: dense_to_one_hot (from tensorflow.contrib.learn.python.learn.datasets.mnist) is deprecated and will be removed in a future version.\n",
      "Instructions for updating:\n",
      "Please use tf.one_hot on tensors.\n",
      "Extracting MNIST_data/t10k-images-idx3-ubyte.gz\n",
      "Extracting MNIST_data/t10k-labels-idx1-ubyte.gz\n",
      "WARNING:tensorflow:From /Users/Linh-Main/anaconda3/lib/python3.6/site-packages/tensorflow/contrib/learn/python/learn/datasets/mnist.py:290: DataSet.__init__ (from tensorflow.contrib.learn.python.learn.datasets.mnist) is deprecated and will be removed in a future version.\n",
      "Instructions for updating:\n",
      "Please use alternatives such as official/mnist/dataset.py from tensorflow/models.\n"
     ]
    }
   ],
   "source": [
    "from tensorflow.examples.tutorials.mnist import input_data\n",
    "mnist = input_data.read_data_sets(\"MNIST_data/\", one_hot=True)"
   ]
  },
  {
   "cell_type": "code",
   "execution_count": 3,
   "metadata": {
    "collapsed": true
   },
   "outputs": [],
   "source": [
    "data = tf.placeholder(tf.float32, [None, 784])\n",
    "labels = tf.placeholder(tf.float32, [None, 10])\n",
    "phase = tf.placeholder(tf.bool,name = 'phase')\n",
    "input_layer = tf.reshape(data, [-1, 28, 28, 1])\n",
    "\n",
    "def conv_pool(inputs,kernel_size,name):\n",
    "    in_shape = kernel_size[:2]\n",
    "    in_channels = kernel_size[2]\n",
    "    out_channels = kernel_size[3]\n",
    "    kernels = tf.get_variable('cw'+name,[5,5,in_channels,out_channels],\n",
    "                              initializer = tf.truncated_normal_initializer())\n",
    "    biases = tf.get_variable('cb'+name, [in_shape[0],in_shape[1],out_channels],dtype =tf.float32,\n",
    "                            initializer = tf.zeros_initializer())\n",
    "    conv = tf.nn.conv2d(input = inputs,\n",
    "                            filter = kernels,\n",
    "                            strides=[1,1,1,1],\n",
    "                           padding = 'SAME')\n",
    "    conv = tf.nn.relu(conv+biases)\n",
    "\n",
    "    pool  =  tf.nn.max_pool(value = conv, \n",
    "                           ksize=[1,2,2,1], \n",
    "                           strides=[1,2,2,1],\n",
    "                          padding = 'SAME')\n",
    "    return pool\n",
    "\n",
    "\n",
    "\n",
    "def ff(flat, weights_list, sizes, train):\n",
    "    counter = 0\n",
    "    for weights,size in zip(weights_list[:-1], sizes[1:-1]):\n",
    "        if train == True:\n",
    "            weights_adj = tf.nn.dropout(weights, 0.6)\n",
    "        else:\n",
    "            weights_adj = weights*0.6\n",
    "        flat = tf.matmul(flat, weights_adj)\n",
    "        mean, var = tf.nn.moments(flat, [0])\n",
    "        offset = tf.Variable(tf.zeros(size), name='offset{}'.format(counter))\n",
    "        scale = tf.Variable(tf.ones(size), name='scale{}'.format(counter))\n",
    "        flat_BN = tf.nn.batch_normalization(flat, mean, var, offset, scale, 0.01)\n",
    "        flat = tf.nn.relu(flat_BN)\n",
    "        counter += 1\n",
    "    if train == True:\n",
    "        weights_adj = tf.nn.dropout(weights, 0.6)\n",
    "    else:\n",
    "        weights_adj = weights*0.5\n",
    "    logits = tf.matmul(flat, weights_list[-1])\n",
    "    return logits"
   ]
  },
  {
   "cell_type": "code",
   "execution_count": 4,
   "metadata": {
    "collapsed": true
   },
   "outputs": [],
   "source": [
    "conv1 = conv_pool(input_layer,[28,28,1,8],'conv1')\n",
    "conv2 = conv_pool(conv1,[14,14,8,16],'conv2')\n",
    "shape2 = 7*7*16\n",
    "\n",
    "sizes = [shape2,200,100,10]\n",
    "flat = tf.reshape(conv2,[-1,shape2])\n",
    "weight_list = []\n",
    "counter = 1\n",
    "for in_size,out_size in zip(sizes[:-1],sizes[1:]):\n",
    "    name = str(counter)\n",
    "    weights = tf.get_variable('dw'+name,[in_size,out_size],\n",
    "                                   initializer = tf.truncated_normal_initializer(stddev = in_size**(-0.5)))\n",
    "    weight_list.append(weights)\n",
    "    counter += 1\n",
    "\n",
    "logits = ff(flat,weight_list,sizes,train = True)    \n",
    "cross_entropy = tf.losses.softmax_cross_entropy(onehot_labels = labels, \n",
    "                                                logits = logits) \n",
    "\n",
    "# define evaluation metrics\n",
    "logits_wo_drop = ff(flat,weight_list,sizes, train = False)    \n",
    "\n",
    "correct_prediction = tf.equal(tf.argmax(logits_wo_drop,1), tf.argmax(labels,1))\n",
    "accuracy = tf.reduce_mean(tf.cast(correct_prediction, tf.float32))"
   ]
  },
  {
   "cell_type": "code",
   "execution_count": 5,
   "metadata": {
    "collapsed": true
   },
   "outputs": [],
   "source": [
    "def train():\n",
    "    # optimizer\n",
    "    import sys\n",
    "    optimizer = tf.train.AdamOptimizer(learning_rate=0.01)\n",
    "    optimize = optimizer.minimize(cross_entropy)\n",
    "    \n",
    "    epochs = 10\n",
    "    batch_size = 60\n",
    "    n_batches = int(len(mnist.train.images)/batch_size)\n",
    "    sess = tf.InteractiveSession()\n",
    "    tf.global_variables_initializer().run()\n",
    "\n",
    "    # create saver\n",
    "    saver = tf.train.Saver()\n",
    "\n",
    "    predictions_o = []\n",
    "    for epoch in range(epochs):\n",
    "        avg_cost =0\n",
    "        for i in range(n_batches):\n",
    "            inputs_batch, labels_batch = mnist.train.next_batch(batch_size)\n",
    "            _,cost = sess.run([optimize,cross_entropy],feed_dict={data: inputs_batch, labels: labels_batch})\n",
    "            avg_cost += cost/n_batches\n",
    "            sys.stdout.write('\\r batch cost {}'.format(cost))\n",
    "        test_acc = sess.run(accuracy, feed_dict={data: mnist.test.images, labels:mnist.test.labels})\n",
    "        print(\"\\n Epoch:\", (epoch + 1), \"cost =\", \"{:.4f}\".format(avg_cost), \"test accuracy: {:.4f}\".format(test_acc))\n",
    "\n",
    "\n",
    "    print(\"\\nTraining complete!\")\n",
    "    "
   ]
  },
  {
   "cell_type": "code",
   "execution_count": 6,
   "metadata": {},
   "outputs": [
    {
     "name": "stdout",
     "output_type": "stream",
     "text": [
      " batch cost 0.0170771740376949356\n",
      " Epoch: 1 cost = 0.1348 test accuracy: 0.9857\n",
      " batch cost 0.0642288103699684155\n",
      " Epoch: 2 cost = 0.0652 test accuracy: 0.9884\n",
      " batch cost 0.0229990649968385757\n",
      " Epoch: 3 cost = 0.0486 test accuracy: 0.9897\n",
      " batch cost 0.02516917139291763344\n",
      " Epoch: 4 cost = 0.0419 test accuracy: 0.9897\n",
      " batch cost 0.01175931748002767666\n",
      " Epoch: 5 cost = 0.0381 test accuracy: 0.9899\n",
      " batch cost 0.03820027783513069735\n",
      " Epoch: 6 cost = 0.0345 test accuracy: 0.9887\n",
      " batch cost 0.09632960706949234555\n",
      " Epoch: 7 cost = 0.0295 test accuracy: 0.9910\n",
      " batch cost 0.12816590070724487974\n",
      " Epoch: 8 cost = 0.0295 test accuracy: 0.9904\n",
      " batch cost 0.00059497467009350664\n",
      " Epoch: 9 cost = 0.0268 test accuracy: 0.9909\n",
      " batch cost 0.00187772826757282028\n",
      " Epoch: 10 cost = 0.0251 test accuracy: 0.9904\n",
      "\n",
      "Training complete!\n",
      "CPU times: user 23min 22s, sys: 4min, total: 27min 23s\n",
      "Wall time: 13min\n"
     ]
    }
   ],
   "source": [
    "%%time\n",
    "train()"
   ]
  }
 ],
 "metadata": {
  "anaconda-cloud": {},
  "kernelspec": {
   "display_name": "Python 3",
   "language": "python",
   "name": "python3"
  },
  "language_info": {
   "codemirror_mode": {
    "name": "ipython",
    "version": 3
   },
   "file_extension": ".py",
   "mimetype": "text/x-python",
   "name": "python",
   "nbconvert_exporter": "python",
   "pygments_lexer": "ipython3",
   "version": "3.6.3"
  }
 },
 "nbformat": 4,
 "nbformat_minor": 2
}
