{
 "cells": [
  {
   "cell_type": "code",
   "execution_count": 1,
   "metadata": {
    "collapsed": true
   },
   "outputs": [],
   "source": [
    "import tensorflow as tf"
   ]
  },
  {
   "cell_type": "code",
   "execution_count": 2,
   "metadata": {},
   "outputs": [
    {
     "name": "stdout",
     "output_type": "stream",
     "text": [
      "Extracting MNIST_data/train-images-idx3-ubyte.gz\n",
      "Extracting MNIST_data/train-labels-idx1-ubyte.gz\n",
      "Extracting MNIST_data/t10k-images-idx3-ubyte.gz\n",
      "Extracting MNIST_data/t10k-labels-idx1-ubyte.gz\n"
     ]
    }
   ],
   "source": [
    "from tensorflow.examples.tutorials.mnist import input_data\n",
    "mnist = input_data.read_data_sets(\"MNIST_data/\", one_hot=True)"
   ]
  },
  {
   "cell_type": "code",
   "execution_count": 3,
   "metadata": {
    "collapsed": true
   },
   "outputs": [],
   "source": [
    "# placeholders (to inject data into the model)\n",
    "data = tf.placeholder(tf.float32, [None, 784])\n",
    "labels = tf.placeholder(tf.float32, [None, 10])\n",
    "\n",
    "hidden_size = 50\n",
    "output_size = 10\n",
    "\n",
    "with tf.variable_scope('hidden_layer') as scope:\n",
    "    weights = tf.get_variable('hidden_w',[784, hidden_size], \n",
    "                                     initializer = tf.truncated_normal_initializer(stddev=0.01))\n",
    "    biases = tf.Variable(tf.ones([hidden_size]))\n",
    "    hidden = tf.nn.relu(tf.matmul(data, weights)+biases) \n",
    "    \n",
    "with tf.variable_scope('out') as scope:\n",
    "    weights = tf.get_variable('out_w',[hidden_size,output_size], \n",
    "                                     initializer = tf.truncated_normal_initializer(stddev=0.01))\n",
    "    biases = tf.Variable(tf.ones([output_size]))\n",
    "    logits = tf.matmul(hidden, weights)+ biases\n",
    "\n",
    "\n",
    "cross_entropy = tf.losses.softmax_cross_entropy(onehot_labels=labels,logits = logits)\n",
    "    \n",
    "\n",
    "# define evaluation metrics\n",
    "correct_prediction = tf.equal(tf.argmax(logits,1), tf.argmax(labels,1))\n",
    "accuracy = tf.reduce_mean(tf.cast(correct_prediction, tf.float32))\n"
   ]
  },
  {
   "cell_type": "code",
   "execution_count": 4,
   "metadata": {
    "collapsed": true
   },
   "outputs": [],
   "source": [
    "def train():\n",
    "    # define training-operation\n",
    "    import sys\n",
    "    learning_rate = 0.5\n",
    "    optimizer = tf.train.GradientDescentOptimizer(learning_rate)\n",
    "    #optimizer = tf.train.AdamOptimizer(learning_rate)\n",
    "    train_op = optimizer.minimize(cross_entropy)\n",
    "    sess = tf.InteractiveSession()\n",
    "    tf.global_variables_initializer().run()\n",
    "\n",
    "    # define log variables\n",
    "    cross_entropy_train, cross_entropy_test = [], []\n",
    "    accuracy_train, accuracy_test = [], []\n",
    "    iteration = []\n",
    "\n",
    "    for _ in range(4000):\n",
    "        if _ % 100 == 0:\n",
    "        #calculate metrics\n",
    "            cross_entropy_train_ = sess.run(cross_entropy, \n",
    "                                       feed_dict={data:mnist.train.images, \n",
    "                                                  labels:mnist.train.labels})\n",
    "            cross_entropy_test_ = sess.run(cross_entropy, \n",
    "                               feed_dict={data:mnist.test.images, \n",
    "                                          labels:mnist.test.labels})\n",
    "            accuracy_train_ = sess.run(accuracy, \n",
    "                 feed_dict={data: mnist.train.images, \n",
    "                            labels: mnist.train.labels})\n",
    "            accuracy_test_ = sess.run(accuracy, \n",
    "                                 feed_dict={data: mnist.test.images, \n",
    "                                            labels: mnist.test.labels})\n",
    "        # log metrics\n",
    "            cross_entropy_train.append(cross_entropy_train_)\n",
    "            cross_entropy_test.append(cross_entropy_test_)\n",
    "            accuracy_train.append(accuracy_train_)\n",
    "            accuracy_test.append(accuracy_test_)\n",
    "            iteration.append(_)\n",
    "            \n",
    "        # show something\n",
    "            if _ % 100 == 0:\n",
    "                sys.stdout.write('\\r for iteration {} accuracy_test is {}'.format(_,accuracy_test[-1]))\n",
    "            \n",
    "    # train the model\n",
    "        batch_xs, batch_ys = mnist.train.next_batch(64)\n",
    "        sess.run(train_op, feed_dict={data: batch_xs, labels: batch_ys})\n",
    "        \n",
    "    import matplotlib.pyplot as plt\n",
    "    plt.title('learning curve (accuracy)')\n",
    "    plt.plot(iteration, accuracy_train)\n",
    "    plt.plot(iteration, accuracy_test)\n",
    "    plt.xlabel('iteration')\n",
    "    plt.ylabel('accuracy')\n",
    "    plt.show()\n",
    "    \n",
    "    plt.title('learning curve (cross_entropy)')\n",
    "    plt.plot(iteration, cross_entropy_train)\n",
    "    plt.plot(iteration, cross_entropy_test)\n",
    "    plt.xlabel('iteration')\n",
    "    plt.ylabel('loss/cost')\n",
    "    plt.show()\n",
    "    sess.close()\n"
   ]
  },
  {
   "cell_type": "code",
   "execution_count": 5,
   "metadata": {},
   "outputs": [
    {
     "name": "stdout",
     "output_type": "stream",
     "text": [
      " for iteration 3900 accuracy_test is 0.9718000292778015"
     ]
    },
    {
     "data": {
      "image/png": "[encoded data removed]",
      "text/plain": [
       "<matplotlib.figure.Figure at 0x1a1cffff60>"
      ]
     },
     "metadata": {},
     "output_type": "display_data"
    },
    {
     "data": {
      "image/png": "[encoded data removed]",
      "text/plain": [
       "<matplotlib.figure.Figure at 0x1a1679a7f0>"
      ]
     },
     "metadata": {},
     "output_type": "display_data"
    },
    {
     "name": "stdout",
     "output_type": "stream",
     "text": [
      "CPU times: user 1min 27s, sys: 22.6 s, total: 1min 49s\n",
      "Wall time: 47.5 s\n"
     ]
    }
   ],
   "source": [
    "%%time\n",
    "train()"
   ]
  }
 ],
 "metadata": {
  "kernelspec": {
   "display_name": "Python 3",
   "language": "python",
   "name": "python3"
  },
  "language_info": {
   "codemirror_mode": {
    "name": "ipython",
    "version": 3
   },
   "file_extension": ".py",
   "mimetype": "text/x-python",
   "name": "python",
   "nbconvert_exporter": "python",
   "pygments_lexer": "ipython3",
   "version": "3.6.3"
  }
 },
 "nbformat": 4,
 "nbformat_minor": 2
}
