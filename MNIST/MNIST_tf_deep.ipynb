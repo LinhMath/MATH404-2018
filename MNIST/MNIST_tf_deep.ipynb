{
 "cells": [
  {
   "cell_type": "code",
   "execution_count": 1,
   "metadata": {},
   "outputs": [
    {
     "name": "stderr",
     "output_type": "stream",
     "text": [
      "/Users/Linh-Main/anaconda3/lib/python3.6/site-packages/h5py/__init__.py:34: FutureWarning: Conversion of the second argument of issubdtype from `float` to `np.floating` is deprecated. In future, it will be treated as `np.float64 == np.dtype(float).type`.\n",
      "  from ._conv import register_converters as _register_converters\n"
     ]
    }
   ],
   "source": [
    "import tensorflow as tf"
   ]
  },
  {
   "cell_type": "code",
   "execution_count": 2,
   "metadata": {},
   "outputs": [
    {
     "name": "stdout",
     "output_type": "stream",
     "text": [
      "WARNING:tensorflow:From /Users/Linh-Main/anaconda3/lib/python3.6/site-packages/tensorflow/contrib/learn/python/learn/datasets/base.py:198: retry (from tensorflow.contrib.learn.python.learn.datasets.base) is deprecated and will be removed in a future version.\n",
      "Instructions for updating:\n",
      "Use the retry module or similar alternatives.\n",
      "WARNING:tensorflow:From <ipython-input-2-69c65344baec>:2: read_data_sets (from tensorflow.contrib.learn.python.learn.datasets.mnist) is deprecated and will be removed in a future version.\n",
      "Instructions for updating:\n",
      "Please use alternatives such as official/mnist/dataset.py from tensorflow/models.\n",
      "WARNING:tensorflow:From /Users/Linh-Main/anaconda3/lib/python3.6/site-packages/tensorflow/contrib/learn/python/learn/datasets/mnist.py:260: maybe_download (from tensorflow.contrib.learn.python.learn.datasets.base) is deprecated and will be removed in a future version.\n",
      "Instructions for updating:\n",
      "Please write your own downloading logic.\n",
      "WARNING:tensorflow:From /Users/Linh-Main/anaconda3/lib/python3.6/site-packages/tensorflow/contrib/learn/python/learn/datasets/mnist.py:262: extract_images (from tensorflow.contrib.learn.python.learn.datasets.mnist) is deprecated and will be removed in a future version.\n",
      "Instructions for updating:\n",
      "Please use tf.data to implement this functionality.\n",
      "Extracting MNIST_data/train-images-idx3-ubyte.gz\n",
      "WARNING:tensorflow:From /Users/Linh-Main/anaconda3/lib/python3.6/site-packages/tensorflow/contrib/learn/python/learn/datasets/mnist.py:267: extract_labels (from tensorflow.contrib.learn.python.learn.datasets.mnist) is deprecated and will be removed in a future version.\n",
      "Instructions for updating:\n",
      "Please use tf.data to implement this functionality.\n",
      "Extracting MNIST_data/train-labels-idx1-ubyte.gz\n",
      "WARNING:tensorflow:From /Users/Linh-Main/anaconda3/lib/python3.6/site-packages/tensorflow/contrib/learn/python/learn/datasets/mnist.py:110: dense_to_one_hot (from tensorflow.contrib.learn.python.learn.datasets.mnist) is deprecated and will be removed in a future version.\n",
      "Instructions for updating:\n",
      "Please use tf.one_hot on tensors.\n",
      "Extracting MNIST_data/t10k-images-idx3-ubyte.gz\n",
      "Extracting MNIST_data/t10k-labels-idx1-ubyte.gz\n",
      "WARNING:tensorflow:From /Users/Linh-Main/anaconda3/lib/python3.6/site-packages/tensorflow/contrib/learn/python/learn/datasets/mnist.py:290: DataSet.__init__ (from tensorflow.contrib.learn.python.learn.datasets.mnist) is deprecated and will be removed in a future version.\n",
      "Instructions for updating:\n",
      "Please use alternatives such as official/mnist/dataset.py from tensorflow/models.\n"
     ]
    }
   ],
   "source": [
    "from tensorflow.examples.tutorials.mnist import input_data\n",
    "mnist = input_data.read_data_sets(\"MNIST_data/\", one_hot=True)"
   ]
  },
  {
   "cell_type": "code",
   "execution_count": 3,
   "metadata": {},
   "outputs": [],
   "source": [
    "# placeholders (to inject data into the model)\n",
    "data = tf.placeholder(tf.float32, [None, 784])\n",
    "labels = tf.placeholder(tf.float32, [None, 10])\n",
    "\n",
    "sizes = [784,40,56,10]\n",
    "depth = len(sizes)-1\n",
    "\n",
    "\n",
    "W = []\n",
    "b = []\n",
    "#Initilize the paras\n",
    "for m,n in zip(sizes[:-1],sizes[1:]):\n",
    "    W.append(tf.Variable(tf.random_normal([m,n],stddev=1./m)))\n",
    "    b.append(tf.Variable(tf.zeros(n)))\n",
    "                    \n",
    "# Generate the flow\n",
    "out = tf.add(tf.matmul(data,W[0]),b[0])\n",
    "for i in range(1,depth):\n",
    "    out = tf.add(tf.matmul(tf.nn.relu(out),W[i]),b[i])\n",
    "    \n",
    "logits = out    \n",
    "\n",
    "cross_entropy = tf.losses.softmax_cross_entropy(onehot_labels=labels,logits = logits)\n",
    "    \n",
    "correct_prediction = tf.equal(tf.argmax(logits,1), tf.argmax(labels,1))\n",
    "\n",
    "accuracy = tf.reduce_mean(tf.cast(correct_prediction, tf.float32))    "
   ]
  },
  {
   "cell_type": "code",
   "execution_count": 6,
   "metadata": {
    "collapsed": true
   },
   "outputs": [],
   "source": [
    "def train():\n",
    "    import sys\n",
    "    learning_rate = 0.5\n",
    "    optimizer = tf.train.GradientDescentOptimizer(learning_rate)\n",
    "    train_op = optimizer.minimize(cross_entropy)\n",
    "    sess = tf.InteractiveSession()\n",
    "    tf.global_variables_initializer().run()\n",
    "\n",
    "    # define log variables\n",
    "    cross_entropy_train, cross_entropy_test = [], []\n",
    "    accuracy_train, accuracy_test = [], []\n",
    "    iteration = []\n",
    "\n",
    "    for _ in range(4000):\n",
    "        if _ % 100 == 0:\n",
    "        #calculate metrics\n",
    "            cross_entropy_train_ = sess.run(cross_entropy, \n",
    "                                       feed_dict={data:mnist.train.images, \n",
    "                                                  labels:mnist.train.labels})\n",
    "            cross_entropy_test_ = sess.run(cross_entropy, \n",
    "                               feed_dict={data:mnist.test.images, \n",
    "                                          labels:mnist.test.labels})\n",
    "            accuracy_train_ = sess.run(accuracy, \n",
    "                 feed_dict={data: mnist.train.images, \n",
    "                            labels: mnist.train.labels})\n",
    "            accuracy_test_ = sess.run(accuracy, \n",
    "                                 feed_dict={data: mnist.test.images, \n",
    "                                            labels: mnist.test.labels})\n",
    "        # log metrics\n",
    "            cross_entropy_train.append(cross_entropy_train_)\n",
    "            cross_entropy_test.append(cross_entropy_test_)\n",
    "            accuracy_train.append(accuracy_train_)\n",
    "            accuracy_test.append(accuracy_test_)\n",
    "            iteration.append(_)\n",
    "            \n",
    "        # show something\n",
    "            if _ % 100 == 0:\n",
    "                sys.stdout.write('\\r for iteration {} accuracy_test is {}'.format(_,accuracy_test[-1]))\n",
    "            \n",
    "    # train the model\n",
    "        batch_xs, batch_ys = mnist.train.next_batch(64)\n",
    "        sess.run(train_op, feed_dict={data: batch_xs, labels: batch_ys})\n",
    "        \n",
    "    import matplotlib.pyplot as plt\n",
    "    plt.title('learning curve (accuracy)')\n",
    "    plt.plot(iteration, accuracy_train)\n",
    "    plt.plot(iteration, accuracy_test)\n",
    "    plt.xlabel('iteration')\n",
    "    plt.ylabel('accuracy')\n",
    "    plt.show()\n",
    "    \n",
    "    plt.title('learning curve (cross_entropy)')\n",
    "    plt.plot(iteration, cross_entropy_train)\n",
    "    plt.plot(iteration, cross_entropy_test)\n",
    "    plt.xlabel('iteration')\n",
    "    plt.ylabel('loss/cost')\n",
    "    plt.show()\n",
    "    sess.close()\n",
    "\n"
   ]
  },
  {
   "cell_type": "code",
   "execution_count": 8,
   "metadata": {},
   "outputs": [
    {
     "name": "stdout",
     "output_type": "stream",
     "text": [
      " for iteration 3900 accuracy_test is 0.9659000039100647"
     ]
    },
    {
     "data": {
      "image/png": "[encoded data removed]",
      "text/plain": [
       "<matplotlib.figure.Figure at 0x1c1b1b8e10>"
      ]
     },
     "metadata": {},
     "output_type": "display_data"
    },
    {
     "data": {
      "image/png": "[encoded data removed]",
      "text/plain": [
       "<matplotlib.figure.Figure at 0x1c1b1cdd68>"
      ]
     },
     "metadata": {},
     "output_type": "display_data"
    },
    {
     "name": "stdout",
     "output_type": "stream",
     "text": [
      "CPU times: user 48.1 s, sys: 15 s, total: 1min 3s\n",
      "Wall time: 22.7 s\n"
     ]
    }
   ],
   "source": [
    "%%time \n",
    "train()"
   ]
  }
 ],
 "metadata": {
  "kernelspec": {
   "display_name": "Python 3",
   "language": "python",
   "name": "python3"
  },
  "language_info": {
   "codemirror_mode": {
    "name": "ipython",
    "version": 3
   },
   "file_extension": ".py",
   "mimetype": "text/x-python",
   "name": "python",
   "nbconvert_exporter": "python",
   "pygments_lexer": "ipython3",
   "version": "3.6.3"
  }
 },
 "nbformat": 4,
 "nbformat_minor": 2
}
