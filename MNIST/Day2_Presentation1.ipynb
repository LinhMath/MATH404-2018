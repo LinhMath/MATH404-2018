{
 "cells": [
  {
   "cell_type": "code",
   "execution_count": null,
   "metadata": {},
   "outputs": [],
   "source": [
    "import tensorflow as tf"
   ]
  },
  {
   "cell_type": "code",
   "execution_count": null,
   "metadata": {},
   "outputs": [],
   "source": [
    "from tensorflow.examples.tutorials.mnist import input_data\n",
    "mnist = input_data.read_data_sets(\"MNIST_data/\", one_hot=True)"
   ]
  },
  {
   "cell_type": "code",
   "execution_count": null,
   "metadata": {
    "collapsed": true
   },
   "outputs": [],
   "source": [
    "data = tf.placeholder(tf.float32, [None, 784])\n",
    "labels = tf.placeholder(tf.float32, [None, 10])\n",
    "\n",
    "sizes = [300,10]\n",
    "input_layer = tf.reshape(data, [-1, 28, 28, 1])\n",
    "\n",
    "with tf.variable_scope('conv1') as cope:\n",
    "    kernels = tf.get_variable('kernel1',[5,5,1,16],\n",
    "                              initializer = tf.truncated_normal_initializer())\n",
    "    biases = tf.get_variable('biases2', [28,28,16],dtype =tf.float32,\n",
    "                            initializer = tf.zeros_initializer())\n",
    "    conv = tf.nn.conv2d(input = input_layer,\n",
    "                            filter = kernels,\n",
    "                            strides=[1,1,1,1],\n",
    "                           padding = 'SAME')\n",
    "    conv1 = tf.nn.relu(conv+biases)\n",
    "    \n",
    "with tf.variable_scope('pool1') as scope:    \n",
    "    pool1 = tf.nn.max_pool(value = conv1, \n",
    "                           ksize=[1,2,2,1], \n",
    "                           strides=[1,2,2,1],\n",
    "                          padding = 'SAME')\n",
    "    \n",
    "with tf.variable_scope('conv2') as cope:\n",
    "    kernels = tf.get_variable('kernel2',[5,5,16,32],\n",
    "                              initializer = tf.truncated_normal_initializer())\n",
    "    biases = tf.get_variable('biases2',[14,14,32],dtype =tf.float32,\n",
    "                            initializer = tf.zeros_initializer())\n",
    "    conv = tf.nn.conv2d(input =pool1,filter = kernels,\n",
    "                         strides = [1,1,1,1],\n",
    "                        padding = 'SAME')\n",
    "    conv2 = tf.nn.relu(conv+biases)\n",
    "\n",
    "with tf.variable_scope('pool2') as scope:\n",
    "    pool2 = tf.nn.max_pool(value =conv2, \n",
    "                        ksize=[1,2,2,1], \n",
    "                        strides=[1,2,2,1],\n",
    "                          padding = 'SAME')\n",
    "    \n",
    "with tf.variable_scope('dense1') as cope:\n",
    "    weights = tf.get_variable('weight1',[7*7*32,sizes[0]],\n",
    "                                   initializer = tf.truncated_normal_initializer(stddev = (7*7*32)**(-0.5)))\n",
    "    pool2_flat = tf.reshape(pool2, [-1, 7 * 7 * 32])\n",
    "    pool_BN = tf.layers.batch_normalization(inputs = pool2_flat,\n",
    "                                              center=True, \n",
    "                                              scale=True, \n",
    "                                              training=True)\n",
    "    dense = tf.nn.relu(tf.matmul(pool_BN,weights))\n",
    "\n",
    "    dropout = tf.nn.dropout(dense, keep_prob=0.6)\n",
    "    \n",
    "with tf.variable_scope('logits') as scope:\n",
    "    weights = tf.get_variable('weight1',[sizes[0],sizes[1]],\n",
    "                                   initializer = tf.truncated_normal_initializer(stddev = sizes[0]**(-0.5)))\n",
    "    dropout_BN = tf.layers.batch_normalization(dropout,\n",
    "                          center = True,\n",
    "                          scale = True,\n",
    "                          training = True)\n",
    "    logits = tf.matmul(dropout_BN,weights)\n",
    "    \n",
    "    dense_BN = tf.layers.batch_normalization(dense,\n",
    "                                center = True,\n",
    "                                scale = True,\n",
    "                                training = True)\n",
    "    \n",
    "    logits_wo_drop = tf.matmul(dense_BN,weights)\n",
    "\n",
    "cross_entropy = tf.losses.softmax_cross_entropy(onehot_labels = labels, \n",
    "                                                logits = logits) \n",
    "\n",
    "# define evaluation metrics\n",
    "correct_prediction = tf.equal(tf.argmax(logits_wo_drop,1), tf.argmax(labels,1))\n",
    "accuracy = tf.reduce_mean(tf.cast(correct_prediction, tf.float32))\n"
   ]
  },
  {
   "cell_type": "code",
   "execution_count": null,
   "metadata": {
    "collapsed": true
   },
   "outputs": [],
   "source": [
    "def train():\n",
    "    import sys\n",
    "    optimizer = tf.train.AdamOptimizer(learning_rate=0.01)\n",
    "    optimize = optimizer.minimize(cross_entropy)\n",
    "    \n",
    "    epochs = 10\n",
    "    batch_size = 60\n",
    "    n_batches = int(len(mnist.train.images)/batch_size)\n",
    "    sess = tf.InteractiveSession()\n",
    "    tf.global_variables_initializer().run()\n",
    "\n",
    "    # create saver\n",
    "    saver = tf.train.Saver()\n",
    "\n",
    "    predictions_o = []\n",
    "    for epoch in range(epochs):\n",
    "        avg_cost =0\n",
    "        for i in range(n_batches):\n",
    "            inputs_batch, labels_batch = mnist.train.next_batch(batch_size)\n",
    "            _,cost = sess.run([optimize,cross_entropy],feed_dict={data: inputs_batch, labels: labels_batch})\n",
    "            avg_cost += cost/n_batches\n",
    "            if i%100 == 0:\n",
    "                sys.stdout.write('\\r batch_cost {}'.format(cost))\n",
    "            \n",
    "        test_acc = sess.run(accuracy, feed_dict={data: mnist.test.images, labels:mnist.test.labels})\n",
    "        print(\"\\n Epoch:\", (epoch + 1), \"cost =\", \"{:.4f}\".format(avg_cost), \"test accuracy: {:.4f}\".format(test_acc))\n",
    "            #save_path = saver.save(sess, \"C:/Users/Daniel1/Desktop/ML Competition/model_checkpoints/{}rz_mb_60_conv0864_200_100_50\".format(epoch))\n",
    "\n",
    "    print(\"\\n Running stats:\")\n",
    "    sess.close()\n",
    "    \n",
    "\n"
   ]
  },
  {
   "cell_type": "code",
   "execution_count": null,
   "metadata": {},
   "outputs": [],
   "source": [
    "%%time\n",
    "train()"
   ]
  }
 ],
 "metadata": {
  "anaconda-cloud": {},
  "kernelspec": {
   "display_name": "Python 3",
   "language": "python",
   "name": "python3"
  },
  "language_info": {
   "codemirror_mode": {
    "name": "ipython",
    "version": 3
   },
   "file_extension": ".py",
   "mimetype": "text/x-python",
   "name": "python",
   "nbconvert_exporter": "python",
   "pygments_lexer": "ipython3",
   "version": "3.6.3"
  }
 },
 "nbformat": 4,
 "nbformat_minor": 2
}
