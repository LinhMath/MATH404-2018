{
 "cells": [
  {
   "cell_type": "code",
   "execution_count": 1,
   "metadata": {},
   "outputs": [
    {
     "name": "stderr",
     "output_type": "stream",
     "text": [
      "/Users/Linh-Main/anaconda3/lib/python3.6/site-packages/h5py/__init__.py:34: FutureWarning: Conversion of the second argument of issubdtype from `float` to `np.floating` is deprecated. In future, it will be treated as `np.float64 == np.dtype(float).type`.\n",
      "  from ._conv import register_converters as _register_converters\n"
     ]
    }
   ],
   "source": [
    "import tensorflow as tf"
   ]
  },
  {
   "cell_type": "code",
   "execution_count": 2,
   "metadata": {},
   "outputs": [
    {
     "name": "stdout",
     "output_type": "stream",
     "text": [
      "WARNING:tensorflow:From /Users/Linh-Main/anaconda3/lib/python3.6/site-packages/tensorflow/contrib/learn/python/learn/datasets/base.py:198: retry (from tensorflow.contrib.learn.python.learn.datasets.base) is deprecated and will be removed in a future version.\n",
      "Instructions for updating:\n",
      "Use the retry module or similar alternatives.\n",
      "WARNING:tensorflow:From <ipython-input-2-69c65344baec>:2: read_data_sets (from tensorflow.contrib.learn.python.learn.datasets.mnist) is deprecated and will be removed in a future version.\n",
      "Instructions for updating:\n",
      "Please use alternatives such as official/mnist/dataset.py from tensorflow/models.\n",
      "WARNING:tensorflow:From /Users/Linh-Main/anaconda3/lib/python3.6/site-packages/tensorflow/contrib/learn/python/learn/datasets/mnist.py:260: maybe_download (from tensorflow.contrib.learn.python.learn.datasets.base) is deprecated and will be removed in a future version.\n",
      "Instructions for updating:\n",
      "Please write your own downloading logic.\n",
      "WARNING:tensorflow:From /Users/Linh-Main/anaconda3/lib/python3.6/site-packages/tensorflow/contrib/learn/python/learn/datasets/base.py:219: retry.<locals>.wrap.<locals>.wrapped_fn (from tensorflow.contrib.learn.python.learn.datasets.base) is deprecated and will be removed in a future version.\n",
      "Instructions for updating:\n",
      "Please use urllib or similar directly.\n",
      "Successfully downloaded train-images-idx3-ubyte.gz 9912422 bytes.\n",
      "WARNING:tensorflow:From /Users/Linh-Main/anaconda3/lib/python3.6/site-packages/tensorflow/contrib/learn/python/learn/datasets/mnist.py:262: extract_images (from tensorflow.contrib.learn.python.learn.datasets.mnist) is deprecated and will be removed in a future version.\n",
      "Instructions for updating:\n",
      "Please use tf.data to implement this functionality.\n",
      "Extracting MNIST_data/train-images-idx3-ubyte.gz\n",
      "Successfully downloaded train-labels-idx1-ubyte.gz 28881 bytes.\n",
      "WARNING:tensorflow:From /Users/Linh-Main/anaconda3/lib/python3.6/site-packages/tensorflow/contrib/learn/python/learn/datasets/mnist.py:267: extract_labels (from tensorflow.contrib.learn.python.learn.datasets.mnist) is deprecated and will be removed in a future version.\n",
      "Instructions for updating:\n",
      "Please use tf.data to implement this functionality.\n",
      "Extracting MNIST_data/train-labels-idx1-ubyte.gz\n",
      "WARNING:tensorflow:From /Users/Linh-Main/anaconda3/lib/python3.6/site-packages/tensorflow/contrib/learn/python/learn/datasets/mnist.py:110: dense_to_one_hot (from tensorflow.contrib.learn.python.learn.datasets.mnist) is deprecated and will be removed in a future version.\n",
      "Instructions for updating:\n",
      "Please use tf.one_hot on tensors.\n",
      "Successfully downloaded t10k-images-idx3-ubyte.gz 1648877 bytes.\n",
      "Extracting MNIST_data/t10k-images-idx3-ubyte.gz\n",
      "Successfully downloaded t10k-labels-idx1-ubyte.gz 4542 bytes.\n",
      "Extracting MNIST_data/t10k-labels-idx1-ubyte.gz\n",
      "WARNING:tensorflow:From /Users/Linh-Main/anaconda3/lib/python3.6/site-packages/tensorflow/contrib/learn/python/learn/datasets/mnist.py:290: DataSet.__init__ (from tensorflow.contrib.learn.python.learn.datasets.mnist) is deprecated and will be removed in a future version.\n",
      "Instructions for updating:\n",
      "Please use alternatives such as official/mnist/dataset.py from tensorflow/models.\n"
     ]
    }
   ],
   "source": [
    "from tensorflow.examples.tutorials.mnist import input_data\n",
    "mnist = input_data.read_data_sets(\"MNIST_data/\", one_hot=True)"
   ]
  },
  {
   "cell_type": "code",
   "execution_count": 3,
   "metadata": {
    "collapsed": true
   },
   "outputs": [],
   "source": [
    "data = tf.placeholder(tf.float32, [None, 784])\n",
    "labels = tf.placeholder(tf.float32, [None, 10])\n",
    "\n",
    "sizes = [300,10]\n",
    "input_layer = tf.reshape(data, [-1, 28, 28, 1])\n",
    "\n",
    "with tf.variable_scope('conv1') as cope:\n",
    "    kernels = tf.get_variable('kernel1',[5,5,1,16],\n",
    "                              initializer = tf.truncated_normal_initializer())\n",
    "    biases = tf.get_variable('biases2', [16],dtype =tf.float32,\n",
    "                            initializer = tf.zeros_initializer())\n",
    "    conv = tf.nn.conv2d(input = input_layer,\n",
    "                            filter = kernels,\n",
    "                            strides=[1,1,1,1],\n",
    "                           padding = 'SAME')\n",
    "    conv1 = tf.nn.relu(conv+biases)\n",
    "    \n",
    "with tf.variable_scope('pool1') as scope:    \n",
    "    pool1 = tf.nn.max_pool(value = conv1, \n",
    "                           ksize=[1,2,2,1], \n",
    "                           strides=[1,2,2,1],\n",
    "                          padding = 'SAME')\n",
    "    \n",
    "with tf.variable_scope('conv2') as cope:\n",
    "    kernels = tf.get_variable('kernel2',[5,5,16,32],\n",
    "                              initializer = tf.truncated_normal_initializer())\n",
    "    biases = tf.get_variable('biases2',[32],dtype =tf.float32,\n",
    "                            initializer = tf.zeros_initializer())\n",
    "    conv = tf.nn.conv2d(input =pool1,filter = kernels,\n",
    "                         strides = [1,1,1,1],\n",
    "                        padding = 'SAME')\n",
    "    conv2 = tf.nn.relu(conv+biases)\n",
    "\n",
    "with tf.variable_scope('pool2') as scope:\n",
    "    pool2 = tf.nn.max_pool(value =conv2, \n",
    "                        ksize=[1,2,2,1], \n",
    "                        strides=[1,2,2,1],\n",
    "                          padding = 'SAME')\n",
    "    \n",
    "with tf.variable_scope('dense1') as cope:\n",
    "    weights = tf.get_variable('weight1',[7*7*32,sizes[0]],\n",
    "                                   initializer = tf.truncated_normal_initializer(stddev = (7*7*32)**(-0.5)))\n",
    "    pool2_flat = tf.reshape(pool2, [-1, 7 * 7 * 32])\n",
    "    pool_BN = tf.layers.batch_normalization(inputs = pool2_flat,\n",
    "                                              center=True, \n",
    "                                              scale=True, \n",
    "                                              training=True)\n",
    "    dense = tf.nn.relu(tf.matmul(pool_BN,weights))\n",
    "\n",
    "    dropout = tf.nn.dropout(dense, keep_prob=0.6)\n",
    "    \n",
    "with tf.variable_scope('logits') as scope:\n",
    "    weights = tf.get_variable('weight1',[sizes[0],sizes[1]],\n",
    "                                   initializer = tf.truncated_normal_initializer(stddev = sizes[0]**(-0.5)))\n",
    "    dropout_BN = tf.layers.batch_normalization(dropout,\n",
    "                          center = True,\n",
    "                          scale = True,\n",
    "                          training = True)\n",
    "    logits = tf.matmul(dropout_BN,weights)\n",
    "    \n",
    "    dense_BN = tf.layers.batch_normalization(dense,\n",
    "                                center = True,\n",
    "                                scale = True,\n",
    "                                training = True)\n",
    "    \n",
    "    logits_wo_drop = tf.matmul(dense_BN,weights)\n",
    "\n",
    "cross_entropy = tf.losses.softmax_cross_entropy(onehot_labels = labels, \n",
    "                                                logits = logits) \n",
    "\n",
    "# define evaluation metrics\n",
    "correct_prediction = tf.equal(tf.argmax(logits_wo_drop,1), tf.argmax(labels,1))\n",
    "accuracy = tf.reduce_mean(tf.cast(correct_prediction, tf.float32))\n"
   ]
  },
  {
   "cell_type": "code",
   "execution_count": 4,
   "metadata": {
    "collapsed": true
   },
   "outputs": [],
   "source": [
    "def train():\n",
    "    import sys\n",
    "    optimizer = tf.train.AdamOptimizer(learning_rate=0.01)\n",
    "    optimize = optimizer.minimize(cross_entropy)\n",
    "    \n",
    "    epochs = 10\n",
    "    batch_size = 60\n",
    "    n_batches = int(len(mnist.train.images)/batch_size)\n",
    "    sess = tf.InteractiveSession()\n",
    "    tf.global_variables_initializer().run()\n",
    "\n",
    "    # create saver\n",
    "    saver = tf.train.Saver()\n",
    "\n",
    "    predictions_o = []\n",
    "    for epoch in range(epochs):\n",
    "        avg_cost =0\n",
    "        for i in range(n_batches):\n",
    "            inputs_batch, labels_batch = mnist.train.next_batch(batch_size)\n",
    "            _,cost = sess.run([optimize,cross_entropy],feed_dict={data: inputs_batch, labels: labels_batch})\n",
    "            avg_cost += cost/n_batches\n",
    "            if i%100 == 0:\n",
    "                sys.stdout.write('\\r batch_cost {}'.format(cost))\n",
    "            \n",
    "        test_acc = sess.run(accuracy, feed_dict={data: mnist.test.images, labels:mnist.test.labels})\n",
    "        print(\"\\n Epoch:\", (epoch + 1), \"cost =\", \"{:.4f}\".format(avg_cost), \"test accuracy: {:.4f}\".format(test_acc))\n",
    "            #save_path = saver.save(sess, \"C:/Users/Daniel1/Desktop/ML Competition/model_checkpoints/{}rz_mb_60_conv0864_200_100_50\".format(epoch))\n",
    "\n",
    "    print(\"\\n Running stats:\")\n",
    "    sess.close()\n",
    "    \n",
    "\n"
   ]
  },
  {
   "cell_type": "code",
   "execution_count": 5,
   "metadata": {},
   "outputs": [
    {
     "name": "stdout",
     "output_type": "stream",
     "text": [
      " batch_cost 0.127510339021682745\n",
      " Epoch: 1 cost = 0.1383 test accuracy: 0.9865\n",
      " batch_cost 0.050903130322694787\n",
      " Epoch: 2 cost = 0.0715 test accuracy: 0.9864\n",
      " batch_cost 0.0131026888266205796\n",
      " Epoch: 3 cost = 0.0598 test accuracy: 0.9881\n",
      " batch_cost 0.029270796105265617\n",
      " Epoch: 4 cost = 0.0552 test accuracy: 0.9896\n",
      " batch_cost 0.075201980769634253\n",
      " Epoch: 5 cost = 0.0486 test accuracy: 0.9901\n",
      " batch_cost 0.05920065939426422766\n",
      " Epoch: 6 cost = 0.0458 test accuracy: 0.9906\n",
      " batch_cost 0.029319405555725098\n",
      " Epoch: 7 cost = 0.0444 test accuracy: 0.9901\n",
      " batch_cost 0.118512488901615148\n",
      " Epoch: 8 cost = 0.0432 test accuracy: 0.9906\n",
      " batch_cost 0.0060415747575461864\n",
      " Epoch: 9 cost = 0.0403 test accuracy: 0.9898\n",
      " batch_cost 5.435773346107453e-054\n",
      " Epoch: 10 cost = 0.0399 test accuracy: 0.9898\n",
      "\n",
      " Running stats:\n",
      "CPU times: user 33min 36s, sys: 5min 30s, total: 39min 6s\n",
      "Wall time: 19min 47s\n"
     ]
    }
   ],
   "source": [
    "%%time\n",
    "train()"
   ]
  }
 ],
 "metadata": {
  "anaconda-cloud": {},
  "kernelspec": {
   "display_name": "Python 3",
   "language": "python",
   "name": "python3"
  },
  "language_info": {
   "codemirror_mode": {
    "name": "ipython",
    "version": 3
   },
   "file_extension": ".py",
   "mimetype": "text/x-python",
   "name": "python",
   "nbconvert_exporter": "python",
   "pygments_lexer": "ipython3",
   "version": "3.6.3"
  }
 },
 "nbformat": 4,
 "nbformat_minor": 2
}
